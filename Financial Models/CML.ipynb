{
 "cells": [
  {
   "cell_type": "markdown",
   "id": "6608bb54",
   "metadata": {},
   "source": [
    "CML"
   ]
  },
  {
   "cell_type": "markdown",
   "id": "c6888d10-d939-4182-9342-5f0be8f4d4c1",
   "metadata": {},
   "source": [
    "The formula for the Capital Market Line is as follows:\n",
    "\n",
    "$$\n",
    "E(R_p) = R_f + \\frac{\\sigma_p}{\\sigma_m} (E(R_m) - R_f)\n",
    "$$\n",
    "\n",
    "Where:\n",
    "\\begin{align*}\n",
    "    E(R_p) & \\text{ represents the expected return of the portfolio.} \\\\\n",
    "    R_f & \\text{ is the risk-free rate of return.} \\\\\n",
    "    \\sigma_p & \\text{ is the standard deviation of the portfolio.} \\\\\n",
    "    \\sigma_m & \\text{ is the standard deviation of the market portfolio.} \\\\\n",
    "    E(R_m) & \\text{ is the expected return of the market portfolio.}\n",
    "\\end{align*}\n"
   ]
  },
  {
   "cell_type": "markdown",
   "id": "5016550c-7c61-4b08-a27d-3d91df807ebf",
   "metadata": {},
   "source": [
    "The CML is a line representing the risk-return tradeoff for efficient portfolios in the capital market. It is based on the assumption that all investors have access to a risk-free asset and can invest in a combination of this risk-free asset and the market portfolio."
   ]
  },
  {
   "cell_type": "markdown",
   "id": "0f2c28e6-2ad4-42cc-815b-ee2619007f37",
   "metadata": {},
   "source": [
    "CML simulation"
   ]
  },
  {
   "cell_type": "code",
   "execution_count": 3,
   "id": "b4b0175c-6dbc-43f4-bd0d-054b626bc855",
   "metadata": {},
   "outputs": [
    {
     "data": {
      "application/vnd.jupyter.widget-view+json": {
       "model_id": "8a1f3fd95d4e43d1bb3d533703c49913",
       "version_major": 2,
       "version_minor": 0
      },
      "text/plain": [
       "interactive(children=(FloatSlider(value=0.1, description='Standard Deviation', max=0.25, step=0.01), Output())…"
      ]
     },
     "metadata": {},
     "output_type": "display_data"
    },
    {
     "data": {
      "text/plain": [
       "<function __main__.interactive_plot(std_value)>"
      ]
     },
     "execution_count": 3,
     "metadata": {},
     "output_type": "execute_result"
    }
   ],
   "source": [
    "import numpy as np\n",
    "import plotly.graph_objects as go\n",
    "from ipywidgets import interact, FloatSlider\n",
    "\n",
    "risk_free_rate = 0.05\n",
    "expected_return_market = 0.07\n",
    "std_market_return = 0.1\n",
    "std_portfolio = np.linspace(0., 0.25, 100)\n",
    "\n",
    "expected_return_portfolio = risk_free_rate + (expected_return_market - risk_free_rate) * std_portfolio / std_market_return\n",
    "\n",
    "def interactive_plot(std_value):\n",
    "    fig = go.Figure()\n",
    "    fig.add_trace(go.Scatter(x=std_portfolio, y=expected_return_portfolio, mode='lines', name=\"CML\", line=dict(color='purple', width=2, dash='dot')))\n",
    "    user_expected_return = risk_free_rate + (expected_return_market - risk_free_rate) * std_value / std_market_return\n",
    "    fig.add_trace(go.Scatter(x=[std_value], y=[user_expected_return], mode='markers', name=\"User Std Dev\", marker=dict(color='red', size=12, line=dict(color='black', width=2))))\n",
    "    a = std_value / std_market_return\n",
    "    print(f\"The % invested in the risky asset: {a*100:.2f}%\")\n",
    "    risk_free_investment = 1 - a\n",
    "    if risk_free_investment < 0:\n",
    "        print(f\"Shorting the risk free asset by {abs(risk_free_investment)*100:.2f}%\")\n",
    "    else:\n",
    "        print(f\"The % invested in the risk-free asset: {risk_free_investment*100:.2f}%\")\n",
    "    fig.add_trace(go.Scatter(x=[std_market_return], y=[expected_return_market], mode='markers', name=\"Market Return\", marker=dict(color='blue', size=12, line=dict(color='black', width=2))))\n",
    "    fig.update_layout(\n",
    "        title=\"Capital Market Line (CML) - a return for a given standard deviation\",\n",
    "        xaxis_title=r\"$\\text{Standard Deviation of Portfolio } (\\sigma_p)$\",\n",
    "        yaxis_title=r\"$\\text{Expected Return of Portfolio } (E[R_p])$\",\n",
    "        template=\"plotly_white\",\n",
    "        xaxis_showgrid=True, yaxis_showgrid=True,\n",
    "        font=dict(family=\"Courier New, monospace\", size=12, color=\"#7f7f7f\"),\n",
    "        autosize=False, width=900, height=600,\n",
    "        xaxis=dict(range=[0, 0.3]), yaxis=dict(range=[0, 0.15])\n",
    "    )\n",
    "    fig.show()\n",
    "\n",
    "interact(interactive_plot, std_value=FloatSlider(min=0., max=0.25, step=0.01, value=0.1, description=\"Standard Deviation\"))\n"
   ]
  },
  {
   "cell_type": "code",
   "execution_count": null,
   "id": "5b7b42f7-d896-4a2b-9b75-c2f92bdb9fba",
   "metadata": {},
   "outputs": [],
   "source": []
  }
 ],
 "metadata": {
  "kernelspec": {
   "display_name": "Python 3 (ipykernel)",
   "language": "python",
   "name": "python3"
  },
  "language_info": {
   "codemirror_mode": {
    "name": "ipython",
    "version": 3
   },
   "file_extension": ".py",
   "mimetype": "text/x-python",
   "name": "python",
   "nbconvert_exporter": "python",
   "pygments_lexer": "ipython3",
   "version": "3.10.9"
  }
 },
 "nbformat": 4,
 "nbformat_minor": 5
}
