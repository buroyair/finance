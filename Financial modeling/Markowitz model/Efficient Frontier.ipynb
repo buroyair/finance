{
 "cells": [
  {
   "cell_type": "code",
   "execution_count": 1,
   "id": "9dfd36d6",
   "metadata": {},
   "outputs": [
    {
     "data": {
      "application/vnd.jupyter.widget-view+json": {
       "model_id": "ce5716482e94481b8901db56619dff9f",
       "version_major": 2,
       "version_minor": 0
      },
      "text/plain": [
       "interactive(children=(FloatSlider(value=0.04, description='return1', max=0.25, step=0.01), FloatSlider(value=0…"
      ]
     },
     "metadata": {},
     "output_type": "display_data"
    }
   ],
   "source": [
    "import numpy as np\n",
    "import matplotlib.pyplot as plt\n",
    "import ipywidgets as widgets\n",
    "from IPython.display import display\n",
    "\n",
    "def portfolio_return(weights, returns):\n",
    "    return np.sum(weights * returns)\n",
    "\n",
    "def portfolio_volatility(weights, cov_matrix):\n",
    "    return np.sqrt(np.dot(weights.T, np.dot(cov_matrix, weights)))\n",
    "\n",
    "def generate_portfolios(returns, cov_matrix, num_portfolios):\n",
    "    num_assets = len(returns)\n",
    "    results = np.zeros((30, num_portfolios))\n",
    "    weights_record = []\n",
    "\n",
    "    for i in range(num_portfolios):\n",
    "        weights = np.random.random(num_assets)\n",
    "        weights /= np.sum(weights)\n",
    "        weights_record.append(weights)\n",
    "        portfolio_return_i = portfolio_return(weights, returns)\n",
    "        portfolio_volatility_i = portfolio_volatility(weights, cov_matrix)\n",
    "        results[0, i] = portfolio_return_i\n",
    "        results[1, i] = portfolio_volatility_i\n",
    "        results[2, i] = portfolio_return_i / portfolio_volatility_i\n",
    "\n",
    "    return results, weights_record\n",
    "\n",
    "def calculate_cov_matrix(std_devs, correlations):\n",
    "    cov_matrix = np.zeros((3, 3))\n",
    "\n",
    "    for i in range(3):\n",
    "        cov_matrix[i, i] = std_devs[i]**2\n",
    "\n",
    "    cov_matrix[0, 1] = cov_matrix[1, 0] = correlations[0] * std_devs[0] * std_devs[1]\n",
    "    cov_matrix[0, 2] = cov_matrix[2, 0] = correlations[1] * std_devs[0] * std_devs[2]\n",
    "    cov_matrix[1, 2] = cov_matrix[2, 1] = correlations[2] * std_devs[1] * std_devs[2]\n",
    "\n",
    "    return cov_matrix\n",
    "\n",
    "@widgets.interact(\n",
    "    return1=(0, 0.25, 0.01), return2=(0, 0.25, 0.01), return3=(0, 0.25, 0.01), \n",
    "    std_dev1=(0, 0.4, 0.01), std_dev2=(0, 0.4, 0.01), std_dev3=(0, 0.4, 0.01), \n",
    "    correlation12=(-1, 1, 0.01), correlation13=(-1, 1, 0.01), correlation23=(-1, 1, 0.01),\n",
    "    num_portfolios=(100, 5000, 100)\n",
    ")\n",
    "def update(return1=0.04, return2=0.12, return3=0.15, std_dev1=0.1, std_dev2=0.1, std_dev3=0.1, correlation12=0.1, correlation13=0.1, correlation23=0.1, num_portfolios=1000):\n",
    "    returns = np.array([return1, return2, return3])\n",
    "    std_devs = [std_dev1, std_dev2, std_dev3]\n",
    "    correlations = [correlation12, correlation13, correlation23]\n",
    "    cov_matrix = calculate_cov_matrix(std_devs, correlations)\n",
    "    results, _ = generate_portfolios(returns, cov_matrix, num_portfolios)\n",
    "\n",
    "    plt.figure(figsize=(10, 6))\n",
    "    plt.style.use('ggplot')\n",
    "    plt.scatter(results[1, :], results[0, :], c='blue', s=10, alpha=0.5)\n",
    "    plt.colorbar(label='Sharpe Ratio')\n",
    "    plt.xlabel('Standard Deviation', fontsize=12)\n",
    "    plt.ylabel('Return', fontsize=12)\n",
    "    plt.title('Efficient Frontier', fontsize=16)\n",
    "    plt.show()\n"
   ]
  },
  {
   "cell_type": "code",
   "execution_count": null,
   "id": "3d173037",
   "metadata": {},
   "outputs": [],
   "source": []
  }
 ],
 "metadata": {
  "kernelspec": {
   "display_name": "Python 3 (ipykernel)",
   "language": "python",
   "name": "python3"
  },
  "language_info": {
   "codemirror_mode": {
    "name": "ipython",
    "version": 3
   },
   "file_extension": ".py",
   "mimetype": "text/x-python",
   "name": "python",
   "nbconvert_exporter": "python",
   "pygments_lexer": "ipython3",
   "version": "3.10.9"
  }
 },
 "nbformat": 4,
 "nbformat_minor": 5
}
