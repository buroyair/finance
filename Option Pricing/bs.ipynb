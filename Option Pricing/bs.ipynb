{
 "cells": [
  {
   "cell_type": "code",
   "execution_count": 10,
   "id": "f412184d",
   "metadata": {},
   "outputs": [
    {
     "name": "stdout",
     "output_type": "stream",
     "text": [
      "Call Option:\n",
      "The call option price calculated with the Black-Scholes model is:  43.96330080281696\n",
      "d1 for the call option is:  1.404962809357643\n",
      "d2 for the call option is:  1.0049628093576428\n",
      "N(d1) for the call option is:  0.9199838311711068\n",
      "N(d2) for the call option is:  0.8425426208505186\n",
      "\n",
      "\n",
      "Put Option:\n",
      "The put option price calculated with the Black-Scholes model is:  1.8944881512125278\n",
      "-d1 for the put option is:  -1.404962809357643\n",
      "-d2 for the put option is:  -1.0049628093576428\n",
      "N(-d1) for the put option is:  0.08001616882889312\n",
      "N(-d2) for the put option is:  0.15745737914948144\n"
     ]
    }
   ],
   "source": [
    "import numpy as np\n",
    "from scipy.stats import norm\n",
    "\n",
    "# Black-Scholes formula\n",
    "def black_scholes_call(S, K, T, r, sigma):\n",
    "    d1 = (np.log(S / K) + (r + 0.5 * sigma ** 2) * T) / (sigma * np.sqrt(T))\n",
    "    d2 = (np.log(S / K) + (r - 0.5 * sigma ** 2) * T) / (sigma * np.sqrt(T))\n",
    "    call = (S * norm.cdf(d1, 0.0, 1.0) - K * np.exp(-r * T) * norm.cdf(d2, 0.0, 1.0))\n",
    "    return call, d1, d2, -d1, -d2, norm.cdf(d1, 0.0, 1.0), norm.cdf(-d1, 0.0, 1.0), norm.cdf(d2, 0.0, 1.0), norm.cdf(-d2, 0.0, 1.0)\n",
    "\n",
    "def black_scholes_put(S, K, T, r, sigma):\n",
    "    d1 = (np.log(S / K) + (r + 0.5 * sigma ** 2) * T) / (sigma * np.sqrt(T))\n",
    "    d2 = (np.log(S / K) + (r - 0.5 * sigma ** 2) * T) / (sigma * np.sqrt(T))\n",
    "    put = (K * np.exp(-r * T) - S + black_scholes_call(S, K, T, r, sigma)[0])\n",
    "    return put, d1, d2, -d1, -d2, norm.cdf(d1, 0.0, 1.0), norm.cdf(-d1, 0.0, 1.0), norm.cdf(d2, 0.0, 1.0), norm.cdf(-d2, 0.0, 1.0)\n",
    "\n",
    "# Parameters\n",
    "S = 110.0     # Current stock price\n",
    "K = 70.0     # Strike price\n",
    "T = 1.0       # Time until option expiration in years\n",
    "r = 0.03      # Risk-free interest rate\n",
    "sigma = 0.4   # Volatility of the underlying stock\n",
    "\n",
    "# Calculate Black-Scholes price for call and put\n",
    "call_option_price, d1_call, d2_call, minus_d1_call, minus_d2_call, Nd1_call, Nminusd1_call, Nd2_call, Nminusd2_call = black_scholes_call(S, K, T, r, sigma)\n",
    "put_option_price, d1_put, d2_put, minus_d1_put, minus_d2_put, Nd1_put, Nminusd1_put, Nd2_put, Nminusd2_put = black_scholes_put(S, K, T, r, sigma)\n",
    "\n",
    "print(\"Call Option:\")\n",
    "print(\"The call option price calculated with the Black-Scholes model is: \", call_option_price)\n",
    "print(\"d1 for the call option is: \", d1_call)\n",
    "print(\"d2 for the call option is: \", d2_call)\n",
    "print(\"N(d1) for the call option is: \", Nd1_call)\n",
    "print(\"N(d2) for the call option is: \", Nd2_call)\n",
    "print(\"\\n\")\n",
    "\n",
    "print(\"Put Option:\")\n",
    "print(\"The put option price calculated with the Black-Scholes model is: \", put_option_price)\n",
    "print(\"-d1 for the put option is: \", minus_d1_put)\n",
    "print(\"-d2 for the put option is: \", minus_d2_put)\n",
    "print(\"N(-d1) for the put option is: \", Nminusd1_put)\n",
    "print(\"N(-d2) for the put option is: \", Nminusd2_put)\n"
   ]
  },
  {
   "cell_type": "code",
   "execution_count": 8,
   "id": "a65e9e02",
   "metadata": {},
   "outputs": [
    {
     "data": {
      "text/plain": [
       "0.15745737914948144"
      ]
     },
     "execution_count": 8,
     "metadata": {},
     "output_type": "execute_result"
    }
   ],
   "source": []
  },
  {
   "cell_type": "code",
   "execution_count": null,
   "id": "43115100",
   "metadata": {},
   "outputs": [],
   "source": []
  }
 ],
 "metadata": {
  "kernelspec": {
   "display_name": "Python 3 (ipykernel)",
   "language": "python",
   "name": "python3"
  },
  "language_info": {
   "codemirror_mode": {
    "name": "ipython",
    "version": 3
   },
   "file_extension": ".py",
   "mimetype": "text/x-python",
   "name": "python",
   "nbconvert_exporter": "python",
   "pygments_lexer": "ipython3",
   "version": "3.10.9"
  }
 },
 "nbformat": 4,
 "nbformat_minor": 5
}
